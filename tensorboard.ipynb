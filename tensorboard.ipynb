{
  "nbformat": 4,
  "nbformat_minor": 0,
  "metadata": {
    "colab": {
      "name": "tensorboard.ipynb",
      "version": "0.3.2",
      "provenance": [],
      "collapsed_sections": [],
      "include_colab_link": true
    },
    "kernelspec": {
      "name": "python3",
      "display_name": "Python 3"
    }
  },
  "cells": [
    {
      "cell_type": "markdown",
      "metadata": {
        "id": "view-in-github",
        "colab_type": "text"
      },
      "source": [
        "<a href=\"https://colab.research.google.com/github/bengHak/Colab_Tensorboard/blob/master/tensorboard.ipynb\" target=\"_parent\"><img src=\"https://colab.research.google.com/assets/colab-badge.svg\" alt=\"Open In Colab\"/></a>"
      ]
    },
    {
      "cell_type": "markdown",
      "metadata": {
        "id": "FPYZhdnnBn0m",
        "colab_type": "text"
      },
      "source": [
        "커서를 첫 코드 셀에 두고  \n",
        "Ctrl(Cmd_맥) + F9 ( 모두실행 ) 누르면 자동으로 전부 실행해준다.  \n",
        "실행 전 모든 런타임 재설정 확인하면 됨.\n",
        "\n"
      ]
    },
    {
      "cell_type": "markdown",
      "metadata": {
        "id": "em9m_coZBNkB",
        "colab_type": "text"
      },
      "source": [
        "로그파일과 텐서보드를 초기화한다."
      ]
    },
    {
      "cell_type": "code",
      "metadata": {
        "id": "RxW6qNzvBMM-",
        "colab_type": "code",
        "outputId": "27b9909f-42e0-429a-929f-704244f1f885",
        "colab": {
          "base_uri": "https://localhost:8080/",
          "height": 68
        }
      },
      "source": [
        "!ls\n",
        "!ls tb_logs/\n",
        "\n",
        "!rm -rf ngrok\n",
        "!rm ngrok-stable-linux-amd64.zip.1\n",
        "!rm ngrok-stable-linux-amd64.zip\n",
        "!rm -rf tb_logs/*\n",
        "!ls tb_logs"
      ],
      "execution_count": 0,
      "outputs": [
        {
          "output_type": "stream",
          "text": [
            "raw.githubusercontent.com  sample_data\ttb_logs\n",
            "rm: cannot remove 'ngrok-stable-linux-amd64.zip.1': No such file or directory\n",
            "rm: cannot remove 'ngrok-stable-linux-amd64.zip': No such file or directory\n"
          ],
          "name": "stdout"
        }
      ]
    },
    {
      "cell_type": "markdown",
      "metadata": {
        "id": "r5eUz7LlBSqN",
        "colab_type": "text"
      },
      "source": [
        "텐서보드 프로그램을 설치하고 로그를 가져오는 디렉토리를 설정한다."
      ]
    },
    {
      "cell_type": "code",
      "metadata": {
        "id": "RvJ3EJdsBE84",
        "colab_type": "code",
        "outputId": "4e63a17b-7ecb-4928-ac48-42b10ea1dd79",
        "colab": {
          "base_uri": "https://localhost:8080/",
          "height": 255
        }
      },
      "source": [
        "# You can change the directory name\n",
        "\n",
        "LOG_DIR = 'tb_logs'\n",
        "\n",
        "\n",
        "\n",
        "!wget https://bin.equinox.io/c/4VmDzA7iaHb/ngrok-stable-linux-amd64.zip\n",
        "\n",
        "!unzip ngrok-stable-linux-amd64.zip\n",
        "\n",
        "\n",
        "\n",
        "import os\n",
        "\n",
        "if not os.path.exists(LOG_DIR):\n",
        "    os.makedirs(LOG_DIR)\n",
        "    get_ipython().system_raw('tensorboard --logdir {} --host 0.0.0.0 --port 6006 &'.format(LOG_DIR))\n",
        "    \n",
        "get_ipython().system_raw('./ngrok http 6006 &')\n",
        "!curl -s http://localhost:4040/api/tunnels | python3 -c \\\n",
        "        \"import sys, json; print(json.load(sys.stdin)['tunnels'][0]['public_url'])\"\n",
        "\n"
      ],
      "execution_count": 0,
      "outputs": [
        {
          "output_type": "stream",
          "text": [
            "--2019-05-23 14:23:40--  https://bin.equinox.io/c/4VmDzA7iaHb/ngrok-stable-linux-amd64.zip\n",
            "Resolving bin.equinox.io (bin.equinox.io)... 52.200.123.104, 52.4.75.11, 52.201.75.180, ...\n",
            "Connecting to bin.equinox.io (bin.equinox.io)|52.200.123.104|:443... connected.\n",
            "HTTP request sent, awaiting response... 200 OK\n",
            "Length: 16648024 (16M) [application/octet-stream]\n",
            "Saving to: ‘ngrok-stable-linux-amd64.zip’\n",
            "\n",
            "ngrok-stable-linux- 100%[===================>]  15.88M  18.6MB/s    in 0.9s    \n",
            "\n",
            "2019-05-23 14:23:41 (18.6 MB/s) - ‘ngrok-stable-linux-amd64.zip’ saved [16648024/16648024]\n",
            "\n",
            "Archive:  ngrok-stable-linux-amd64.zip\n",
            "  inflating: ngrok                   \n",
            "https://898c0ebd.ngrok.io\n"
          ],
          "name": "stdout"
        }
      ]
    },
    {
      "cell_type": "markdown",
      "metadata": {
        "id": "c_zNvFLmBJ1v",
        "colab_type": "text"
      },
      "source": [
        "W, b, cost, accuracy 노드의 값들을 텐서보드에서 모니터링 할 수 있게  \n",
        "tf.summary.merge_all()을 통해 텐서보드에 전달해준다."
      ]
    },
    {
      "cell_type": "code",
      "metadata": {
        "id": "_fHI99YdxCP2",
        "colab_type": "code",
        "colab": {}
      },
      "source": [
        "# Lab 6 Softmax Classifier\n",
        "import tensorflow as tf\n",
        "import numpy as np\n",
        "import pandas as pd\n",
        "\n",
        "tf.set_random_seed(777)  # for reproducibility\n",
        "\n",
        "# Predicting animal type based on various features\n",
        "\n",
        "url = 'https://raw.githubusercontent.com/hunkim/DeepLearningZeroToAll/master/data-04-zoo.csv'\n",
        "xy = np.loadtxt(url, delimiter=',', dtype=np.float32)\n",
        "#xy = np.loadtxt('data-04-zoo.csv', delimiter=',', dtype=np.float32)\n",
        "#xy = pd.read_csv(url)\n",
        "print(xy)\n",
        "x_data = xy[:, 0:-1]\n",
        "y_data = xy[:, [-1]]\n",
        "\n",
        "print(x_data.shape, y_data.shape)\n",
        "\n",
        "'''\n",
        "(101, 16) (101, 1)\n",
        "'''\n",
        "\n",
        "nb_classes = 7  # 0 ~ 6\n",
        "\n",
        "X = tf.placeholder(tf.float32, [None, 16])\n",
        "Y = tf.placeholder(tf.int32, [None, 1])  # 0 ~ 6\n",
        "\n",
        "Y_one_hot = tf.one_hot(Y, nb_classes)  # one hot\n",
        "print(\"one_hot:\", Y_one_hot)\n",
        "Y_one_hot = tf.reshape(Y_one_hot, [-1, nb_classes])\n",
        "print(\"reshape one_hot:\", Y_one_hot)\n",
        "\n",
        "'''\n",
        "one_hot: Tensor(\"one_hot:0\", shape=(?, 1, 7), dtype=float32)\n",
        "reshape one_hot: Tensor(\"Reshape:0\", shape=(?, 7), dtype=float32)\n",
        "'''\n",
        "\n",
        "W = tf.Variable(tf.random_normal([16, nb_classes]), name='weight')\n",
        "b = tf.Variable(tf.random_normal([nb_classes]), name='bias')\n",
        "\n",
        "# tf.nn.softmax computes softmax activations\n",
        "# softmax = exp(logits) / reduce_sum(exp(logits), dim)\n",
        "logits = tf.matmul(X, W) + b\n",
        "hypothesis = tf.nn.softmax(logits)\n",
        "\n",
        "# Cross entropy cost/loss\n",
        "cost = tf.reduce_mean(tf.nn.softmax_cross_entropy_with_logits_v2(logits=logits,\n",
        "                                                                 labels=tf.stop_gradient([Y_one_hot])))\n",
        "optimizer = tf.train.GradientDescentOptimizer(learning_rate=0.1).minimize(cost)\n",
        "\n",
        "prediction = tf.argmax(hypothesis, 1)\n",
        "correct_prediction = tf.equal(prediction, tf.argmax(Y_one_hot, 1))\n",
        "accuracy = tf.reduce_mean(tf.cast(correct_prediction, tf.float32))\n",
        "\n",
        "# TensorBoard\n",
        "w_hist = tf.summary.histogram(\"weight\", W) \n",
        "b_hist = tf.summary.histogram(\"bias\", b) \n",
        "hypothesis_hist = tf.summary.histogram(\"y\", hypothesis) \n",
        "cost_hist = tf.summary.scalar('cost_scalar', cost)\n",
        "accuracy_hist = tf.summary.scalar('accuracy_scalar', accuracy)\n",
        "\n",
        "merged = tf.summary.merge_all()\n",
        "\n",
        "# Launch graph\n",
        "with tf.Session() as sess:\n",
        "    sess.run(tf.global_variables_initializer())\n",
        "    writer = tf.summary.FileWriter('tb_logs', sess.graph)\n",
        "\n",
        "    for step in range(2001):\n",
        "        #_, cost_val, acc_val = sess.run([optimizer, cost, accuracy], feed_dict={X: x_data, Y: y_data})\n",
        "        summary = sess.run(merged, feed_dict={X: x_data, Y: y_data})\n",
        "        writer.add_summary(summary, step)\n",
        "        writer.flush()\n",
        "                                        \n",
        "        #if step % 100 == 0:\n",
        "            #print(summary)\n",
        "            #print(\"Step: {:5}\\tCost: {:.3f}\\tAcc: {:.2%} \\n\".format(step, cost_val, acc_val))\n",
        "\n",
        "    # Let's see if we can predict\n",
        "    pred = sess.run(prediction, feed_dict={X: x_data})\n",
        "    # y_data: (N,1) = flatten => (N, ) matches pred.shape\n",
        "    for p, y in zip(pred, y_data.flatten()):\n",
        "        print(\"[{}] Prediction: {} True Y: {} \\n\".format(p == int(y), p, int(y)))\n",
        "\n",
        "'''\n",
        "Step:     0 Loss: 5.106 Acc: 37.62%\n",
        "Step:   100 Loss: 0.800 Acc: 79.21%\n",
        "Step:   200 Loss: 0.486 Acc: 88.12%\n",
        "...\n",
        "Step:  1800\tLoss: 0.060\tAcc: 100.00%\n",
        "Step:  1900\tLoss: 0.057\tAcc: 100.00%\n",
        "Step:  2000\tLoss: 0.054\tAcc: 100.00%\n",
        "[True] Prediction: 0 True Y: 0\n",
        "[True] Prediction: 0 True Y: 0\n",
        "[True] Prediction: 3 True Y: 3\n",
        "...\n",
        "[True] Prediction: 0 True Y: 0\n",
        "[True] Prediction: 6 True Y: 6\n",
        "[True] Prediction: 1 True Y: 1\n",
        "'''"
      ],
      "execution_count": 0,
      "outputs": []
    }
  ]
}